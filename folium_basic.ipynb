{
 "cells": [
  {
   "cell_type": "markdown",
   "metadata": {},
   "source": [
    "## Folium 이용해서 지도에 서울시 초등학교 표시해보기\n",
    "\n",
    "데이터 셋 제공 : https://data.seoul.go.kr/dataList/datasetView.do?infId=OA-12059&srvType=S&serviceKind=1&currentPageNo=1"
   ]
  },
  {
   "cell_type": "code",
   "execution_count": 2,
   "metadata": {},
   "outputs": [],
   "source": [
    "import pandas as pd\n",
    "import folium as fl\n",
    "import numpy as np\n",
    "import requests"
   ]
  },
  {
   "cell_type": "markdown",
   "metadata": {},
   "source": [
    "한글 인코딩 에러날때 [참고](https://soooprmx.com/archives/4912)"
   ]
  },
  {
   "cell_type": "code",
   "execution_count": 9,
   "metadata": {},
   "outputs": [],
   "source": [
    "dataset = pd.read_csv('data/elem_school_seoul.csv', encoding='CP949', header = 1)"
   ]
  },
  {
   "cell_type": "code",
   "execution_count": 10,
   "metadata": {},
   "outputs": [
    {
     "data": {
      "text/html": [
       "<div>\n",
       "<style scoped>\n",
       "    .dataframe tbody tr th:only-of-type {\n",
       "        vertical-align: middle;\n",
       "    }\n",
       "\n",
       "    .dataframe tbody tr th {\n",
       "        vertical-align: top;\n",
       "    }\n",
       "\n",
       "    .dataframe thead th {\n",
       "        text-align: right;\n",
       "    }\n",
       "</style>\n",
       "<table border=\"1\" class=\"dataframe\">\n",
       "  <thead>\n",
       "    <tr style=\"text-align: right;\">\n",
       "      <th></th>\n",
       "      <th>서대문구</th>\n",
       "      <th>서울안산초등학교</th>\n",
       "      <th>서울 서대문구 통일로 321 (홍제동,서울안산초등학교)</th>\n",
       "    </tr>\n",
       "  </thead>\n",
       "  <tbody>\n",
       "    <tr>\n",
       "      <th>0</th>\n",
       "      <td>은평구</td>\n",
       "      <td>서울역촌초등학교</td>\n",
       "      <td>서울 은평구 은평로3길 25 , 서울역촌초등학교 (역촌동,서울역촌초등학교)</td>\n",
       "    </tr>\n",
       "    <tr>\n",
       "      <th>1</th>\n",
       "      <td>서대문구</td>\n",
       "      <td>서울연가초등학교</td>\n",
       "      <td>서울 서대문구 증가로12가길 49-50 (남가좌동,연가초등학교)</td>\n",
       "    </tr>\n",
       "    <tr>\n",
       "      <th>2</th>\n",
       "      <td>은평구</td>\n",
       "      <td>서울연광초등학교</td>\n",
       "      <td>서울특별시 은평구 연서로35길 37 (불광동,연광초등학교)</td>\n",
       "    </tr>\n",
       "    <tr>\n",
       "      <th>3</th>\n",
       "      <td>은평구</td>\n",
       "      <td>서울연신초등학교</td>\n",
       "      <td>서울 은평구 연서로 347 (불광동,연신초등학교)</td>\n",
       "    </tr>\n",
       "    <tr>\n",
       "      <th>4</th>\n",
       "      <td>은평구</td>\n",
       "      <td>서울연은초등학교</td>\n",
       "      <td>서울특별시 은평구 백련산로2길 35 (응암동)</td>\n",
       "    </tr>\n",
       "  </tbody>\n",
       "</table>\n",
       "</div>"
      ],
      "text/plain": [
       "   서대문구  서울안산초등학교             서울 서대문구 통일로 321 (홍제동,서울안산초등학교)\n",
       "0   은평구  서울역촌초등학교  서울 은평구 은평로3길 25 , 서울역촌초등학교 (역촌동,서울역촌초등학교)\n",
       "1  서대문구  서울연가초등학교        서울 서대문구 증가로12가길 49-50 (남가좌동,연가초등학교)\n",
       "2   은평구  서울연광초등학교           서울특별시 은평구 연서로35길 37 (불광동,연광초등학교)\n",
       "3   은평구  서울연신초등학교                서울 은평구 연서로 347 (불광동,연신초등학교)\n",
       "4   은평구  서울연은초등학교                  서울특별시 은평구 백련산로2길 35 (응암동)"
      ]
     },
     "execution_count": 10,
     "metadata": {},
     "output_type": "execute_result"
    }
   ],
   "source": [
    "dataset.head()"
   ]
  },
  {
   "cell_type": "code",
   "execution_count": 23,
   "metadata": {},
   "outputs": [],
   "source": [
    "dataset.columns = [ 'region','name', 'address']"
   ]
  },
  {
   "cell_type": "code",
   "execution_count": 24,
   "metadata": {},
   "outputs": [
    {
     "data": {
      "text/html": [
       "<div>\n",
       "<style scoped>\n",
       "    .dataframe tbody tr th:only-of-type {\n",
       "        vertical-align: middle;\n",
       "    }\n",
       "\n",
       "    .dataframe tbody tr th {\n",
       "        vertical-align: top;\n",
       "    }\n",
       "\n",
       "    .dataframe thead th {\n",
       "        text-align: right;\n",
       "    }\n",
       "</style>\n",
       "<table border=\"1\" class=\"dataframe\">\n",
       "  <thead>\n",
       "    <tr style=\"text-align: right;\">\n",
       "      <th></th>\n",
       "      <th>region</th>\n",
       "      <th>name</th>\n",
       "      <th>address</th>\n",
       "    </tr>\n",
       "  </thead>\n",
       "  <tbody>\n",
       "    <tr>\n",
       "      <th>0</th>\n",
       "      <td>은평구</td>\n",
       "      <td>서울역촌초등학교</td>\n",
       "      <td>서울 은평구 은평로3길 25 , 서울역촌초등학교 (역촌동,서울역촌초등학교)</td>\n",
       "    </tr>\n",
       "    <tr>\n",
       "      <th>1</th>\n",
       "      <td>서대문구</td>\n",
       "      <td>서울연가초등학교</td>\n",
       "      <td>서울 서대문구 증가로12가길 49-50 (남가좌동,연가초등학교)</td>\n",
       "    </tr>\n",
       "    <tr>\n",
       "      <th>2</th>\n",
       "      <td>은평구</td>\n",
       "      <td>서울연광초등학교</td>\n",
       "      <td>서울특별시 은평구 연서로35길 37 (불광동,연광초등학교)</td>\n",
       "    </tr>\n",
       "    <tr>\n",
       "      <th>3</th>\n",
       "      <td>은평구</td>\n",
       "      <td>서울연신초등학교</td>\n",
       "      <td>서울 은평구 연서로 347 (불광동,연신초등학교)</td>\n",
       "    </tr>\n",
       "    <tr>\n",
       "      <th>4</th>\n",
       "      <td>은평구</td>\n",
       "      <td>서울연은초등학교</td>\n",
       "      <td>서울특별시 은평구 백련산로2길 35 (응암동)</td>\n",
       "    </tr>\n",
       "  </tbody>\n",
       "</table>\n",
       "</div>"
      ],
      "text/plain": [
       "  region      name                                    address\n",
       "0    은평구  서울역촌초등학교  서울 은평구 은평로3길 25 , 서울역촌초등학교 (역촌동,서울역촌초등학교)\n",
       "1   서대문구  서울연가초등학교        서울 서대문구 증가로12가길 49-50 (남가좌동,연가초등학교)\n",
       "2    은평구  서울연광초등학교           서울특별시 은평구 연서로35길 37 (불광동,연광초등학교)\n",
       "3    은평구  서울연신초등학교                서울 은평구 연서로 347 (불광동,연신초등학교)\n",
       "4    은평구  서울연은초등학교                  서울특별시 은평구 백련산로2길 35 (응암동)"
      ]
     },
     "execution_count": 24,
     "metadata": {},
     "output_type": "execute_result"
    }
   ],
   "source": [
    "dataset.head()"
   ]
  },
  {
   "cell_type": "code",
   "execution_count": 25,
   "metadata": {},
   "outputs": [
    {
     "name": "stdout",
     "output_type": "stream",
     "text": [
      "<class 'pandas.core.frame.DataFrame'>\n",
      "RangeIndex: 598 entries, 0 to 597\n",
      "Data columns (total 3 columns):\n",
      "region     598 non-null object\n",
      "name       598 non-null object\n",
      "address    598 non-null object\n",
      "dtypes: object(3)\n",
      "memory usage: 14.1+ KB\n"
     ]
    }
   ],
   "source": [
    "dataset.info()"
   ]
  },
  {
   "cell_type": "markdown",
   "metadata": {},
   "source": [
    "도로명 주소를 기반으로 좌표값 얻어오기\n",
    "https://www.vworld.kr/v4po_svrint_a002.do 참고\n",
    "\n",
    "API를 이용하려면 API KEY 발급받아야함"
   ]
  },
  {
   "cell_type": "code",
   "execution_count": 27,
   "metadata": {},
   "outputs": [],
   "source": [
    "coordinates = []\n",
    "for data in dataset.iterrows():\n",
    "    res = requests.get('http://apis.vworld.kr/new2coord.do?q=' + data[1]['address'] + '&apiKey=발급받은 API KEY&domain=http://map.vworld.kr/&output=json').json()\n",
    "    x = res.get('EPSG_4326_X')\n",
    "    y = res.get('EPSG_4326_Y')\n",
    "    if x is not None and y is not None:\n",
    "        coordinate = [float(y),float(x)]  # folium에 이용하기 위해 실수값으로 변환\n",
    "        coordinates.append(coordinate)\n",
    "    else:\n",
    "        coordinates.append([0.0, 0.0])\n",
    "   "
   ]
  },
  {
   "cell_type": "code",
   "execution_count": 28,
   "metadata": {},
   "outputs": [
    {
     "data": {
      "text/plain": [
       "598"
      ]
     },
     "execution_count": 28,
     "metadata": {},
     "output_type": "execute_result"
    }
   ],
   "source": [
    "len(coordinates)"
   ]
  },
  {
   "cell_type": "code",
   "execution_count": 33,
   "metadata": {},
   "outputs": [],
   "source": [
    "dataset['coordinate'] = coordinates"
   ]
  },
  {
   "cell_type": "code",
   "execution_count": 34,
   "metadata": {},
   "outputs": [
    {
     "data": {
      "text/html": [
       "<div>\n",
       "<style scoped>\n",
       "    .dataframe tbody tr th:only-of-type {\n",
       "        vertical-align: middle;\n",
       "    }\n",
       "\n",
       "    .dataframe tbody tr th {\n",
       "        vertical-align: top;\n",
       "    }\n",
       "\n",
       "    .dataframe thead th {\n",
       "        text-align: right;\n",
       "    }\n",
       "</style>\n",
       "<table border=\"1\" class=\"dataframe\">\n",
       "  <thead>\n",
       "    <tr style=\"text-align: right;\">\n",
       "      <th></th>\n",
       "      <th>region</th>\n",
       "      <th>name</th>\n",
       "      <th>address</th>\n",
       "      <th>coordinate</th>\n",
       "    </tr>\n",
       "  </thead>\n",
       "  <tbody>\n",
       "    <tr>\n",
       "      <th>0</th>\n",
       "      <td>은평구</td>\n",
       "      <td>서울역촌초등학교</td>\n",
       "      <td>서울 은평구 은평로3길 25 , 서울역촌초등학교 (역촌동,서울역촌초등학교)</td>\n",
       "      <td>[37.601586928, 126.91392844]</td>\n",
       "    </tr>\n",
       "    <tr>\n",
       "      <th>1</th>\n",
       "      <td>서대문구</td>\n",
       "      <td>서울연가초등학교</td>\n",
       "      <td>서울 서대문구 증가로12가길 49-50 (남가좌동,연가초등학교)</td>\n",
       "      <td>[37.580080643, 126.917814891]</td>\n",
       "    </tr>\n",
       "    <tr>\n",
       "      <th>2</th>\n",
       "      <td>은평구</td>\n",
       "      <td>서울연광초등학교</td>\n",
       "      <td>서울특별시 은평구 연서로35길 37 (불광동,연광초등학교)</td>\n",
       "      <td>[37.623856092, 126.92410867]</td>\n",
       "    </tr>\n",
       "    <tr>\n",
       "      <th>3</th>\n",
       "      <td>은평구</td>\n",
       "      <td>서울연신초등학교</td>\n",
       "      <td>서울 은평구 연서로 347 (불광동,연신초등학교)</td>\n",
       "      <td>[37.626825047, 126.92829666]</td>\n",
       "    </tr>\n",
       "    <tr>\n",
       "      <th>4</th>\n",
       "      <td>은평구</td>\n",
       "      <td>서울연은초등학교</td>\n",
       "      <td>서울특별시 은평구 백련산로2길 35 (응암동)</td>\n",
       "      <td>[37.590494222, 126.925047544]</td>\n",
       "    </tr>\n",
       "  </tbody>\n",
       "</table>\n",
       "</div>"
      ],
      "text/plain": [
       "  region      name                                    address  \\\n",
       "0    은평구  서울역촌초등학교  서울 은평구 은평로3길 25 , 서울역촌초등학교 (역촌동,서울역촌초등학교)   \n",
       "1   서대문구  서울연가초등학교        서울 서대문구 증가로12가길 49-50 (남가좌동,연가초등학교)   \n",
       "2    은평구  서울연광초등학교           서울특별시 은평구 연서로35길 37 (불광동,연광초등학교)   \n",
       "3    은평구  서울연신초등학교                서울 은평구 연서로 347 (불광동,연신초등학교)   \n",
       "4    은평구  서울연은초등학교                  서울특별시 은평구 백련산로2길 35 (응암동)   \n",
       "\n",
       "                      coordinate  \n",
       "0   [37.601586928, 126.91392844]  \n",
       "1  [37.580080643, 126.917814891]  \n",
       "2   [37.623856092, 126.92410867]  \n",
       "3   [37.626825047, 126.92829666]  \n",
       "4  [37.590494222, 126.925047544]  "
      ]
     },
     "execution_count": 34,
     "metadata": {},
     "output_type": "execute_result"
    }
   ],
   "source": [
    "dataset.head()"
   ]
  },
  {
   "cell_type": "markdown",
   "metadata": {},
   "source": [
    "### 지도그리기  - Folium   \n",
    "\n",
    "Folium은 지도데이터에 'Leaflet.js'를 이용하여 위치정보를 시각화하기위한 라이브러리.  \n",
    "기본적으로 'GeoJSON' 형식 또는 'topoJSON' 형식으로 데이터를 지정하면, 오버레이를 통해 마커의 형태로 위치정보를 지도상에 표현가능.  \n",
    "  \n",
    "[folium 공식문서](http://python-visualization.github.io/folium/docs-v0.5.0/)   \n",
    "[참고](https://snscrawler.wordpress.com/tag/folium/)   "
   ]
  },
  {
   "cell_type": "code",
   "execution_count": 36,
   "metadata": {},
   "outputs": [],
   "source": [
    "pivot_loc = [37.566345, 126.977893] # 중심좌표값 설정, '서울시청'\n",
    "map_osm = fl.Map(location = pivot_loc, zoom_start = 8)\n",
    "for data in dataset.iterrows():\n",
    "    address = data[1]['address']\n",
    "    coordinate = data[1]['coordinate']\n",
    "    fl.Marker(coordinate, popup=address).add_to(map_osm)\n",
    "    map_osm.save('data/elem_school_map_seoul.html')\n",
    "    "
   ]
  },
  {
   "cell_type": "markdown",
   "metadata": {},
   "source": [
    "![content01](/assets/elem_school_seoul.PNG)  \n",
    "   "
   ]
  },
  {
   "cell_type": "code",
   "execution_count": null,
   "metadata": {},
   "outputs": [],
   "source": []
  }
 ],
 "metadata": {
  "kernelspec": {
   "display_name": "Python 3",
   "language": "python",
   "name": "python3"
  },
  "language_info": {
   "codemirror_mode": {
    "name": "ipython",
    "version": 3
   },
   "file_extension": ".py",
   "mimetype": "text/x-python",
   "name": "python",
   "nbconvert_exporter": "python",
   "pygments_lexer": "ipython3",
   "version": "3.6.5"
  }
 },
 "nbformat": 4,
 "nbformat_minor": 2
}
